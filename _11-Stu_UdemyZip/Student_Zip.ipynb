{
 "cells": [
  {
   "cell_type": "markdown",
   "metadata": {},
   "source": [
    "# Udemy - Web Course Breakdown\n",
    "\n",
    "## Instructions\n",
    "\n",
    "* Create a Python application that reads the data on Udemy Web Development offerings. \n",
    "\n",
    "* Then store the contents of the Title, Price, Subscriber Count, Number of Reviews, and Course Length into Python Lists.\n",
    "\n",
    "* Then zip these lists together into a single tuple.\n",
    "`\n",
    "* Finally, write the contents of your extracted data into a CSV. Make sure to include the titles of these columns in your csv.\n",
    "\n",
    "## Notes:\n",
    "\n",
    "* Windows user may get an `UnicodeDecodeError`, to avoid this file pass in `encoding=\"utf8\"` as an additional parameter when reading in the file.\n",
    "\n",
    "* As, with many datasets, the file does not include the header line. Use the below as a guide on the columns: \"id,title,url,isPaid,price,numSubscribers,numReviews,numPublishedLectures,instructionalLevel,contentInfo,publishedTime\"\n",
    "\n",
    "## Bonus\n",
    "\n",
    "* Find the percent of subscribers that have also left a review on the course. Include this in your final output.\n",
    "\n",
    "* Parse the string associated with course length, such that we store it as an integer instead of a string. (i.e. \"4 hours\" should be converted to 4).\n"
   ]
  },
  {
   "cell_type": "code",
   "execution_count": null,
   "metadata": {},
   "outputs": [],
   "source": [
    "import os\n",
    "import csv\n",
    "\n",
    "udemy_csv = os.path.join(\"..\", \"Resources\", \"web_starter.csv\")\n"
   ]
  }
 ],
 "metadata": {
  "kernelspec": {
   "display_name": "Python 3",
   "language": "python",
   "name": "python3"
  },
  "language_info": {
   "codemirror_mode": {
    "name": "ipython",
    "version": 3
   },
   "file_extension": ".py",
   "mimetype": "text/x-python",
   "name": "python",
   "nbconvert_exporter": "python",
   "pygments_lexer": "ipython3",
   "version": "3.7.1"
  }
 },
 "nbformat": 4,
 "nbformat_minor": 2
}
