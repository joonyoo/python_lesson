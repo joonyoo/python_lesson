{
 "cells": [
  {
   "cell_type": "markdown",
   "metadata": {},
   "source": [
    "### A tuple is a collection which is ordered and unchangeable. \n",
    "\n",
    "In Python tuples are written with round brackets."
   ]
  },
  {
   "cell_type": "code",
   "execution_count": 7,
   "metadata": {},
   "outputs": [],
   "source": [
    "import csv\n",
    "import os\n",
    "\n",
    "# Three Lists\n",
    "indexes = [1, 2, 3, 4]\n",
    "employees = [\"Michael\", \"Dwight\", \"Meredith\", \"Kelly\"]\n",
    "department = [\"Boss\", \"Sales\", \"Sales\", \"HR\"]\n",
    "\n",
    "# Zip all three lists together into tuples\n",
    "roster = zip(indexes, employees, department)\n"
   ]
  },
  {
   "cell_type": "code",
   "execution_count": 9,
   "metadata": {},
   "outputs": [],
   "source": [
    "\n",
    "# save the output file path\n",
    "output_file = os.path.join(\"..\", \"output.csv\")\n",
    "\n",
    "# open the output file, create a header row, and then write the zipped object to the csv\n",
    "with open(output_file, \"w\", newline=\"\") as datafile:\n",
    "    writer = csv.writer(datafile)\n",
    "\n",
    "    writer.writerow([\"Index\", \"Employee\", \"Department\"])\n",
    "\n",
    "    writer.writerows(roster)\n",
    "\n"
   ]
  },
  {
   "cell_type": "code",
   "execution_count": null,
   "metadata": {},
   "outputs": [],
   "source": []
  }
 ],
 "metadata": {
  "kernelspec": {
   "display_name": "Python 3",
   "language": "python",
   "name": "python3"
  },
  "language_info": {
   "codemirror_mode": {
    "name": "ipython",
    "version": 3
   },
   "file_extension": ".py",
   "mimetype": "text/x-python",
   "name": "python",
   "nbconvert_exporter": "python",
   "pygments_lexer": "ipython3",
   "version": "3.7.1"
  }
 },
 "nbformat": 4,
 "nbformat_minor": 2
}
